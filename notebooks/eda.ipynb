{
 "cells": [
  {
   "cell_type": "code",
   "execution_count": 1,
   "id": "a5415e1f-4c0c-409a-a8fa-26b538ddc140",
   "metadata": {},
   "outputs": [
    {
     "name": "stdout",
     "output_type": "stream",
     "text": [
      "Dataset loaded successfully. Shape: (1000, 16)\n",
      "\n",
      "### EDA Insights for Report\n",
      "1. **Dataset Structure**: The dataset has approximately 1000 rows and 16 columns, including numerical features (e.g., Amount, Value) and categorical features (e.g., ProductCategory, ChannelId).\n",
      "2. **Missing Values**: No significant missing values were observed in the sampled dataset.\n",
      "3. **Numerical Distributions**: The 'Amount' column has a skewness of 16.95 (right-skewed), possibly due to varied transaction values. 'Value' has a skewness of 16.99 (right-skewed).\n",
      "4. **Categorical Variability**: The 'ProductCategory' column has 8 unique categories, with 'financial_services' being the most frequent (523 occurrences, 52.3% of the sample).\n",
      "5. **Correlations**: The 'Amount' and 'Value' columns have a correlation of 1.00, indicating high similarity.\n"
     ]
    }
   ],
   "source": [
    "# Load libraries and data\n",
    "import pandas as pd\n",
    "import numpy as np\n",
    "\n",
    "# Load dataset with debugging\n",
    "data_path = \"../data/raw/transactions.csv\"  # Update if file name/location differs\n",
    "try:\n",
    "    df = pd.read_csv(data_path, nrows=1000)  # Limit to 1000 rows for speed\n",
    "    print(\"Dataset loaded successfully. Shape:\", df.shape)\n",
    "except FileNotFoundError:\n",
    "    print(\"Error: File not found at\", data_path, \". Please check the file path and ensure 'transactions.csv' is in 'data/raw/'.\")\n",
    "except Exception as e:\n",
    "    print(\"Error loading dataset:\", str(e))\n",
    "\n",
    "# Generate insights only if data is loaded\n",
    "if 'df' in locals():\n",
    "    insights = []\n",
    "\n",
    "    # Insight 1: Dataset Structure\n",
    "    rows, cols = df.shape\n",
    "    insights.append(f\"1. **Dataset Structure**: The dataset has approximately {rows} rows and {cols} columns, including numerical features (e.g., Amount, Value) and categorical features (e.g., ProductCategory, ChannelId).\")\n",
    "\n",
    "    # Insight 2: Missing Values\n",
    "    missing_values = df.isnull().sum()\n",
    "    missing_percent = (missing_values / rows * 100).round(2)\n",
    "    missing_insight = [col for col in missing_values.index if missing_values[col] > 0]\n",
    "    if not missing_insight:\n",
    "        insights.append(\"2. **Missing Values**: No significant missing values were observed in the sampled dataset.\")\n",
    "    else:\n",
    "        insights.append(f\"2. **Missing Values**: Columns {', '.join(missing_insight)} have missing values, with approximately {missing_percent[missing_insight].to_string(index=False)}% missing data respectively, suggesting potential imputation.\")\n",
    "\n",
    "    # Insight 3: Numerical Distributions\n",
    "    amount_skew = df['Amount'].skew() if 'Amount' in df.columns else 0\n",
    "    value_skew = df['Value'].skew() if 'Value' in df.columns else 0\n",
    "    insights.append(f\"3. **Numerical Distributions**: The 'Amount' column has a skewness of {amount_skew:.2f} {'(right-skewed)' if amount_skew > 0 else '(left-skewed)' if amount_skew < 0 else '(symmetric)'}, possibly due to varied transaction values. 'Value' has a skewness of {value_skew:.2f} {'(right-skewed)' if value_skew > 0 else '(left-skewed)' if value_skew < 0 else '(symmetric)'}.\")  # Simplified\n",
    "\n",
    "    # Insight 4: Categorical Variability\n",
    "    if 'ProductCategory' in df.columns:\n",
    "        category_counts = df['ProductCategory'].value_counts()\n",
    "        dominant_category = category_counts.index[0] if not category_counts.empty else \"N/A\"\n",
    "        dominant_count = category_counts.iloc[0] if not category_counts.empty else 0\n",
    "        total_categories = len(category_counts)\n",
    "        insights.append(f\"4. **Categorical Variability**: The 'ProductCategory' column has {total_categories} unique categories, with '{dominant_category}' being the most frequent ({dominant_count} occurrences, {100 * dominant_count / rows:.1f}% of the sample).\")\n",
    "    else:\n",
    "        insights.append(\"4. **Categorical Variability**: 'ProductCategory' data not available in sample.\")\n",
    "\n",
    "    # Insight 5: Correlations\n",
    "    if 'Amount' in df.columns and 'Value' in df.columns:\n",
    "        numerical_cols = df.select_dtypes(include=[np.number]).columns\n",
    "        correlation_matrix = df[numerical_cols].corr()\n",
    "        amount_value_corr = correlation_matrix.loc['Amount', 'Value']\n",
    "        insights.append(f\"5. **Correlations**: The 'Amount' and 'Value' columns have a correlation of {amount_value_corr:.2f}, indicating {'high' if abs(amount_value_corr) > 0.7 else 'moderate' if abs(amount_value_corr) > 0.3 else 'low'} similarity.\")\n",
    "    else:\n",
    "        insights.append(\"5. **Correlations**: Correlation between 'Amount' and 'Value' could not be calculated due to missing columns.\")\n",
    "\n",
    "    # Print insights for report\n",
    "    print(\"\\n### EDA Insights for Report\")\n",
    "    for i, insight in enumerate(insights, 1):\n",
    "        print(insight)"
   ]
  },
  {
   "cell_type": "code",
   "execution_count": null,
   "id": "8aede171-70d1-4fa4-96e4-86514aa2b972",
   "metadata": {},
   "outputs": [],
   "source": []
  }
 ],
 "metadata": {
  "kernelspec": {
   "display_name": "Python [conda env:base] *",
   "language": "python",
   "name": "conda-base-py"
  },
  "language_info": {
   "codemirror_mode": {
    "name": "ipython",
    "version": 3
   },
   "file_extension": ".py",
   "mimetype": "text/x-python",
   "name": "python",
   "nbconvert_exporter": "python",
   "pygments_lexer": "ipython3",
   "version": "3.12.7"
  }
 },
 "nbformat": 4,
 "nbformat_minor": 5
}
