{
 "cells": [
  {
   "cell_type": "code",
   "execution_count": 2,
   "id": "06ba42df-ea4e-445c-ad95-62b3179ae325",
   "metadata": {},
   "outputs": [
    {
     "name": "stderr",
     "output_type": "stream",
     "text": [
      "C:\\Users\\hp\\anaconda3\\Lib\\site-packages\\sklearn\\base.py:376: InconsistentVersionWarning: Trying to unpickle estimator DecisionTreeClassifier from version 1.7.0 when using version 1.5.1. This might lead to breaking code or invalid results. Use at your own risk. For more info please refer to:\n",
      "https://scikit-learn.org/stable/model_persistence.html#security-maintainability-limitations\n",
      "  warnings.warn(\n",
      "C:\\Users\\hp\\anaconda3\\Lib\\site-packages\\sklearn\\base.py:376: InconsistentVersionWarning: Trying to unpickle estimator RandomForestClassifier from version 1.7.0 when using version 1.5.1. This might lead to breaking code or invalid results. Use at your own risk. For more info please refer to:\n",
      "https://scikit-learn.org/stable/model_persistence.html#security-maintainability-limitations\n",
      "  warnings.warn(\n"
     ]
    },
    {
     "name": "stdout",
     "output_type": "stream",
     "text": [
      "Confusion Matrix:\n",
      " [[3726    0]\n",
      " [   4   12]]\n",
      "Classification Report:\n",
      "               precision    recall  f1-score   support\n",
      "\n",
      "           0       1.00      1.00      1.00      3726\n",
      "           1       1.00      0.75      0.86        16\n",
      "\n",
      "    accuracy                           1.00      3742\n",
      "   macro avg       1.00      0.88      0.93      3742\n",
      "weighted avg       1.00      1.00      1.00      3742\n",
      "\n"
     ]
    }
   ],
   "source": [
    "# notebooks/2.0-model_evaluation.ipynb \n",
    "import pandas as pd\n",
    "import joblib\n",
    "from sklearn.metrics import confusion_matrix, classification_report\n",
    "\n",
    "# Load model and data\n",
    "model = joblib.load('../models/rf_model.pkl')\n",
    "X_test = pd.read_csv('../data/processed/features.csv').set_index('CustomerId')[['Recency', 'Frequency', 'Monetary']]\n",
    "y_test = pd.read_csv('../data/raw/transactions.csv').groupby('CustomerId')['FraudResult'].agg(lambda x: x.mode()[0] if not x.mode().empty else x.iloc[0])\n",
    "\n",
    "# Evaluate\n",
    "y_pred = model.predict(X_test)\n",
    "print(\"Confusion Matrix:\\n\", confusion_matrix(y_test, y_pred))\n",
    "print(\"Classification Report:\\n\", classification_report(y_test, y_pred))"
   ]
  },
  {
   "cell_type": "code",
   "execution_count": null,
   "id": "954a5209-0d81-4ebd-b4b6-0610ebe2c6ca",
   "metadata": {},
   "outputs": [],
   "source": []
  }
 ],
 "metadata": {
  "kernelspec": {
   "display_name": "Python [conda env:base] *",
   "language": "python",
   "name": "conda-base-py"
  },
  "language_info": {
   "codemirror_mode": {
    "name": "ipython",
    "version": 3
   },
   "file_extension": ".py",
   "mimetype": "text/x-python",
   "name": "python",
   "nbconvert_exporter": "python",
   "pygments_lexer": "ipython3",
   "version": "3.12.7"
  }
 },
 "nbformat": 4,
 "nbformat_minor": 5
}
